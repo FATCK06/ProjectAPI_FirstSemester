{
  "cells": [
    {
      "cell_type": "markdown",
      "metadata": {
        "id": "view-in-github",
        "colab_type": "text"
      },
      "source": [
        "<a href=\"https://colab.research.google.com/github/FATCK06/ProjectAPI_FirstSemester/blob/BranchPai_BackEnd/RubyFox_Analise_Populacional.ipynb\" target=\"_parent\"><img src=\"https://colab.research.google.com/assets/colab-badge.svg\" alt=\"Open In Colab\"/></a>"
      ]
    },
    {
      "cell_type": "markdown",
      "metadata": {
        "id": "iPpDHg86i02f"
      },
      "source": [
        "# **Extraindo dados populacional de São José dos Campos:**"
      ]
    },
    {
      "cell_type": "markdown",
      "source": [
        "Nosso Github: https://github.com/FATCK06/ProjectAPI_FirstSemester\n",
        "\n",
        "Desenvolvemos esse código dentro do Google Colab para apresentar dados do censo de IBGE dos anos 2010 e 2022, tais informações apresenta: População residente de SJC, Faixa etária, Densidade demográfica e População por sexo."
      ],
      "metadata": {
        "id": "6DCyVy_HZeEL"
      }
    },
    {
      "cell_type": "markdown",
      "source": [
        "# Instalando bibliotecas Python para o progama:\n",
        "\n",
        "Base de todo programa para funcionar."
      ],
      "metadata": {
        "id": "F03bxeU1aMvy"
      }
    },
    {
      "cell_type": "code",
      "source": [
        "!pip install flask pyngrok matplotlib plotly pandas sidrapy streamlit flask-cors --upgrade"
      ],
      "metadata": {
        "id": "m8oADozlPGcQ"
      },
      "execution_count": null,
      "outputs": []
    },
    {
      "cell_type": "markdown",
      "source": [
        "# Inserindo Token Pyngrok:\n",
        "\n",
        "Importante, não esquecer de rodar isso primeiro."
      ],
      "metadata": {
        "id": "dZdauwk2O2sr"
      }
    },
    {
      "cell_type": "code",
      "source": [
        "!ngrok config add-authtoken 32Qi64IHMghRwMNkoFZu49G4xIF_yYjaH7aJoXcfiJEhhhCs"
      ],
      "metadata": {
        "id": "ek-Icvn7O6VJ",
        "colab": {
          "base_uri": "https://localhost:8080/"
        },
        "outputId": "8eeba237-9579-4d66-e952-e7fafae41ab4"
      },
      "execution_count": 2,
      "outputs": [
        {
          "output_type": "stream",
          "name": "stdout",
          "text": [
            "Authtoken saved to configuration file: /root/.config/ngrok/ngrok.yml\n"
          ]
        }
      ]
    },
    {
      "cell_type": "markdown",
      "metadata": {
        "id": "7ALxv7EPr_9H"
      },
      "source": [
        "# Carregando dados CSV do IBGE:\n",
        "\n",
        "Verificação via link público e analisar se os dados estão corretos."
      ]
    },
    {
      "cell_type": "code",
      "source": [
        "import pandas as pd\n",
        "import requests\n",
        "\n",
        "# ==============================================================================\n",
        "# Cole aqui o dicionário de URLs do seu script do dashboard\n",
        "# ==============================================================================\n",
        "urls_csv = {\n",
        "    \"idade_sexo_2022\": \"https://raw.githubusercontent.com/FATCK06/ProjectAPI_FirstSemester/main/Arquivos%20dados%20CSV/RubyFox%20-%20Dados%20de%202022%20-%20Idade%20e%20sexo.csv\",\n",
        "    \"pop_residencia_2022\": \"https://raw.githubusercontent.com/FATCK06/ProjectAPI_FirstSemester/main/Arquivos%20dados%20CSV/RubyFox%20-%20Dados%20de%202022%20-%20popula%C3%A7%C3%A3o%20e%20residencia.csv\",\n",
        "    \"pop_residencia_2010\": \"https://raw.githubusercontent.com/FATCK06/ProjectAPI_FirstSemester/main/Arquivos%20dados%20CSV/populacao_residente_sjc_2010.csv\",\n",
        "    \"densidade_2010\": \"https://raw.githubusercontent.com/FATCK06/ProjectAPI_FirstSemester/main/Arquivos%20dados%20CSV/densidade_demografica_sjc_2010.csv\",\n",
        "    \"faixa_mulheres_2010\": \"https://raw.githubusercontent.com/FATCK06/ProjectAPI_FirstSemester/main/Arquivos%20dados%20CSV/faixa_etaria_mulheres_2010.csv\",\n",
        "    \"faixa_homens_2010\": \"https://raw.githubusercontent.com/FATCK06/ProjectAPI_FirstSemester/main/Arquivos%20dados%20CSV/faixa_etaria_homens_2010.csv\"\n",
        "}\n",
        "# ==============================================================================\n",
        "\n",
        "print(\"─\" * 60)\n",
        "print(\"🚀 Iniciando a verificação de todos os links dos arquivos CSV...\")\n",
        "print(\"─\" * 60)\n",
        "\n",
        "links_com_falha = 0\n",
        "\n",
        "# Itera sobre cada nome e url no dicionário\n",
        "for nome_arquivo, url in urls_csv.items():\n",
        "    print(f\"Verificando '{nome_arquivo}'...\")\n",
        "    print(f\"URL: {url}\")\n",
        "\n",
        "    try:\n",
        "        # Tenta ler apenas as primeiras 5 linhas para ser mais rápido (head)\n",
        "        # O Pandas precisa de um 'User-Agent' para evitar ser bloqueado (erro 403)\n",
        "        # Este cabeçalho simula um navegador web.\n",
        "        headers = {\n",
        "            \"User-Agent\": \"Mozilla/5.0 (Windows NT 10.0; Win64; x64) AppleWebKit/537.36 (KHTML, like Gecko) Chrome/58.0.3029.110 Safari/537.36\"\n",
        "        }\n",
        "        # Primeiro, verificamos se o link existe (status 200 OK)\n",
        "        response = requests.get(url, headers=headers)\n",
        "        response.raise_for_status() # Lança um erro se o status não for 200\n",
        "\n",
        "        # Se o link estiver OK, tentamos ler com o Pandas\n",
        "        df_teste = pd.read_csv(url)\n",
        "        print(\"✅ SUCESSO: O link é válido e o arquivo CSV foi lido corretamente.\")\n",
        "\n",
        "    except requests.exceptions.HTTPError as http_err:\n",
        "        print(f\"❌ FALHA: Erro de HTTP. O link parece estar quebrado ou inacessível. (Status: {http_err.response.status_code})\")\n",
        "        links_com_falha += 1\n",
        "\n",
        "    except pd.errors.ParserError as parser_err:\n",
        "        print(f\"❌ FALHA: O link é válido, mas o arquivo não parece ser um CSV bem formatado. (Erro de Parser)\")\n",
        "        links_com_falha += 1\n",
        "\n",
        "    except Exception as e:\n",
        "        print(f\"❌ FALHA: Ocorreu um erro inesperado. (Erro: {e})\")\n",
        "        links_com_falha += 1\n",
        "\n",
        "    print(\"-\" * 50)\n",
        "\n",
        "print(\"\\n\" + \"─\" * 60)\n",
        "print(\"🏁 Verificação Concluída!\")\n",
        "if links_com_falha == 0:\n",
        "    print(\"🎉 Ótima notícia! Todos os links foram verificados e estão funcionando perfeitamente.\")\n",
        "else:\n",
        "    print(f\"⚠️ Atenção: {links_com_falha} link(s) apresentaram falha. Revise as URLs com problema.\")\n",
        "print(\"─\" * 60)\n"
      ],
      "metadata": {
        "colab": {
          "base_uri": "https://localhost:8080/"
        },
        "id": "HgVTZC1tXgqe",
        "outputId": "3f0a1460-1f91-4e73-a19d-e997a52071fc"
      },
      "execution_count": 7,
      "outputs": [
        {
          "output_type": "stream",
          "name": "stdout",
          "text": [
            "────────────────────────────────────────────────────────────\n",
            "🚀 Iniciando a verificação de todos os links dos arquivos CSV...\n",
            "────────────────────────────────────────────────────────────\n",
            "Verificando 'idade_sexo_2022'...\n",
            "URL: https://raw.githubusercontent.com/FATCK06/ProjectAPI_FirstSemester/main/Arquivos%20dados%20CSV/RubyFox%20-%20Dados%20de%202022%20-%20Idade%20e%20sexo.csv\n",
            "✅ SUCESSO: O link é válido e o arquivo CSV foi lido corretamente.\n",
            "--------------------------------------------------\n",
            "Verificando 'pop_residencia_2022'...\n",
            "URL: https://raw.githubusercontent.com/FATCK06/ProjectAPI_FirstSemester/main/Arquivos%20dados%20CSV/RubyFox%20-%20Dados%20de%202022%20-%20popula%C3%A7%C3%A3o%20e%20residencia.csv\n",
            "✅ SUCESSO: O link é válido e o arquivo CSV foi lido corretamente.\n",
            "--------------------------------------------------\n",
            "Verificando 'pop_residencia_2010'...\n",
            "URL: https://raw.githubusercontent.com/FATCK06/ProjectAPI_FirstSemester/main/Arquivos%20dados%20CSV/populacao_residente_sjc_2010.csv\n",
            "✅ SUCESSO: O link é válido e o arquivo CSV foi lido corretamente.\n",
            "--------------------------------------------------\n",
            "Verificando 'densidade_2010'...\n",
            "URL: https://raw.githubusercontent.com/FATCK06/ProjectAPI_FirstSemester/main/Arquivos%20dados%20CSV/densidade_demografica_sjc_2010.csv\n",
            "✅ SUCESSO: O link é válido e o arquivo CSV foi lido corretamente.\n",
            "--------------------------------------------------\n",
            "Verificando 'faixa_mulheres_2010'...\n",
            "URL: https://raw.githubusercontent.com/FATCK06/ProjectAPI_FirstSemester/main/Arquivos%20dados%20CSV/faixa_etaria_mulheres_2010.csv\n",
            "✅ SUCESSO: O link é válido e o arquivo CSV foi lido corretamente.\n",
            "--------------------------------------------------\n",
            "Verificando 'faixa_homens_2010'...\n",
            "URL: https://raw.githubusercontent.com/FATCK06/ProjectAPI_FirstSemester/main/Arquivos%20dados%20CSV/faixa_etaria_homens_2010.csv\n",
            "✅ SUCESSO: O link é válido e o arquivo CSV foi lido corretamente.\n",
            "--------------------------------------------------\n",
            "\n",
            "────────────────────────────────────────────────────────────\n",
            "🏁 Verificação Concluída!\n",
            "🎉 Ótima notícia! Todos os links foram verificados e estão funcionando perfeitamente.\n",
            "────────────────────────────────────────────────────────────\n"
          ]
        }
      ]
    },
    {
      "cell_type": "markdown",
      "source": [
        "# Ainda sobre construção, será onde o programa rodará com Flask juntamente com streamlit:\n",
        "\n",
        "Como dito antes, ainda está em construção então falta inserir mais algumas coisas, como o Flask."
      ],
      "metadata": {
        "id": "FS7Azyci1r6Y"
      }
    },
    {
      "cell_type": "code",
      "source": [
        "import os\n",
        "import socket\n",
        "import subprocess\n",
        "import time\n",
        "import atexit\n",
        "from pyngrok import ngrok\n",
        "\n",
        "# ==================================================\n",
        "# 1. Código do Streamlit com carregamento via URL\n",
        "# ==================================================\n",
        "# Usamos r\"\"\"...\"\"\" para criar uma string de múltiplas linhas que será salva no arquivo.\n",
        "streamlit_code = r\"\"\"\n",
        "import streamlit as st\n",
        "import pandas as pd\n",
        "import plotly.express as px\n",
        "import re\n",
        "\n",
        "st.set_page_config(\n",
        "    page_title=\"Dashboard Populacional SJC\",\n",
        "    page_icon=\"📊\",\n",
        "    layout=\"wide\"\n",
        ")\n",
        "\n",
        "# =========================\n",
        "# Funções auxiliares\n",
        "# =========================\n",
        "\n",
        "@st.cache_data\n",
        "def limpar_colunas(df):\n",
        "    cols = df.columns.str.strip().str.lower()\n",
        "    replacements = {\n",
        "        ' ': '_', 'ç': 'c', 'ã': 'a', 'õ': 'o', 'á': 'a', 'é': 'e',\n",
        "        'í': 'i', 'ó': 'o', 'ú': 'u', 'â': 'a', 'ê': 'e', 'î': 'i',\n",
        "        'ô': 'o', 'û': 'u'\n",
        "    }\n",
        "    for old, new in replacements.items():\n",
        "        cols = cols.str.replace(old, new, regex=False)\n",
        "    cols = cols.str.replace(r'[^a-z0-9_]', '', regex=True)\n",
        "    df.columns = cols\n",
        "    return df\n",
        "\n",
        "def converter_para_numerico(series):\n",
        "    if pd.api.types.is_string_dtype(series):\n",
        "        series = (\n",
        "            series.str.replace(r\"(dados alterados)\", \"\", regex=True)\n",
        "            .str.replace(r\"\\\\.\", \"\", regex=True)\n",
        "            .str.replace(r\",\", \".\", regex=True)\n",
        "        )\n",
        "    return pd.to_numeric(series, errors='coerce')\n",
        "\n",
        "@st.cache_data\n",
        "def carregar_csvs():\n",
        "    # ==============================================================================\n",
        "    # <<< ÁREA DE ALTERAÇÃO DOS LINKS >>>\n",
        "    # Altere os links abaixo para apontar para os seus arquivos CSV no GitHub.\n",
        "    # Lembre-se de usar o link \"Raw\" (Bruto) de cada arquivo.\n",
        "    # Dica: Evite usar caracteres especiais e acentos nos nomes dos arquivos\n",
        "    #       para facilitar a criação das URLs.\n",
        "    # ==============================================================================\n",
        "    urls_csv = {\n",
        "        \"idade_sexo_2022\": \"https://raw.githubusercontent.com/FATCK06/ProjectAPI_FirstSemester/main/Arquivos%20dados%20CSV/RubyFox%20-%20Dados%20de%202022%20-%20Idade%20e%20sexo.csv\",\n",
        "        \"pop_residencia_2022\": \"https://raw.githubusercontent.com/FATCK06/ProjectAPI_FirstSemester/main/Arquivos%20dados%20CSV/RubyFox%20-%20Dados%20de%202022%20-%20popula%C3%A7%C3%A3o%20e%20residencia.csv\",\n",
        "        \"pop_residencia_2010\": \"https://raw.githubusercontent.com/FATCK06/ProjectAPI_FirstSemester/main/Arquivos%20dados%20CSV/populacao_residente_sjc_2010.csv\",\n",
        "        \"densidade_2010\": \"https://raw.githubusercontent.com/FATCK06/ProjectAPI_FirstSemester/main/Arquivos%20dados%20CSV/densidade_demografica_sjc_2010.csv\",\n",
        "        \"faixa_mulheres_2010\": \"https://raw.githubusercontent.com/FATCK06/ProjectAPI_FirstSemester/main/Arquivos%20dados%20CSV/faixa_etaria_mulheres_2010.csv\",\n",
        "        \"faixa_homens_2010\": \"https://raw.githubusercontent.com/FATCK06/ProjectAPI_FirstSemester/main/Arquivos%20dados%20CSV/faixa_etaria_homens_2010.csv\"\n",
        "    }\n",
        "    # ==============================================================================\n",
        "\n",
        "    try:\n",
        "        # Carrega os dados brutos a partir das URLs\n",
        "        datasets_raw = {key: pd.read_csv(url) for key, url in urls_csv.items()}\n",
        "\n",
        "        # Cria uma cópia limpa para manipulação\n",
        "        datasets = {}\n",
        "        for key, df in datasets_raw.items():\n",
        "            # Preserva os dados originais de 2010 para busca de strings\n",
        "            if key in [\"pop_residencia_2010\", \"faixa_homens_2010\", \"faixa_mulheres_2010\"]:\n",
        "                datasets[key] = df.copy()\n",
        "            # Limpa os nomes das colunas dos outros\n",
        "            else:\n",
        "                datasets[key] = limpar_colunas(df.copy())\n",
        "\n",
        "        # Converte colunas numéricas dos arquivos de 2022\n",
        "        for col in datasets[\"idade_sexo_2022\"].columns:\n",
        "            if col not in [\"tipo\", \"ano\"]:\n",
        "                datasets[\"idade_sexo_2022\"][col] = converter_para_numerico(datasets[\"idade_sexo_2022\"][col])\n",
        "\n",
        "        for col in datasets[\"pop_residencia_2022\"].columns:\n",
        "            if col not in ['ano']:\n",
        "                datasets[\"pop_residencia_2022\"][col] = converter_para_numerico(datasets[\"pop_residencia_2022\"][col])\n",
        "\n",
        "        return datasets\n",
        "\n",
        "    except Exception as e:\n",
        "        st.error(f\"Ocorreu um erro ao carregar os dados de uma URL. Verifique os links no código. Erro: {e}\")\n",
        "        st.stop()\n",
        "\n",
        "def normalizar_faixa_etaria_2010(indicador):\n",
        "    indicador = str(indicador).lower()\n",
        "    if 'menos de 1' in indicador or '1 a 4' in indicador: return '0_a_4_anos'\n",
        "    if '5 a 9' in indicador: return '5_a_9_anos'\n",
        "    if '10 a 14' in indicador: return '10_a_14_anos'\n",
        "    if '15 a 19' in indicador: return '15_a_19_anos'\n",
        "    if '20 a 24' in indicador: return '20_a_24_anos'\n",
        "    if '25 a 29' in indicador: return '25_a_29_anos'\n",
        "    if '30 a 34' in indicador: return '30_a_34_anos'\n",
        "    if '35 a 39' in indicador: return '35_a_39_anos'\n",
        "    if '40 a 44' in indicador: return '40_a_44_anos'\n",
        "    if '45 a 49' in indicador: return '45_a_49_anos'\n",
        "    if '50 a 54' in indicador: return '50_a_54_anos'\n",
        "    if '55 a 59' in indicador: return '55_a_59_anos'\n",
        "    if '60 a 64' in indicador: return '60_a_64_anos'\n",
        "    if '65 a 69' in indicador: return '65_a_69_anos'\n",
        "    if '70 a 74' in indicador: return '70_a_74_anos'\n",
        "    if '75 a 79' in indicador: return '75_a_79_anos'\n",
        "    if '80 a 84' in indicador: return '80_a_84_anos'\n",
        "    if '85 a 89' in indicador: return '85_a_89_anos'\n",
        "    if '90 a 94' in indicador: return '90_a_94_anos'\n",
        "    if '95 a 99' in indicador: return '95_a_99_anos'\n",
        "    if '100 anos ou mais' in indicador: return '100_anos_ou_mais'\n",
        "    return None\n",
        "\n",
        "# =========================\n",
        "# Título Principal\n",
        "# =========================\n",
        "st.title(\"📊 Análise Populacional - São José dos Campos\")\n",
        "datasets = carregar_csvs()\n",
        "\n",
        "# --- Extração de Totais ---\n",
        "total_correto_2022 = datasets[\"pop_residencia_2022\"][\"populacao_residente\"].iloc[0]\n",
        "df_pop_2010 = datasets[\"pop_residencia_2010\"]\n",
        "# Busca pelo valor exato no CSV original, antes da limpeza de colunas\n",
        "total_correto_2010 = df_pop_2010.loc[df_pop_2010['Indicador'] == 'População residente', 'Valor'].iloc[0]\n",
        "\n",
        "\n",
        "# ===================================================================\n",
        "# GRÁFICO 1: POPULAÇÃO POR SEXO & MÉTRICAS\n",
        "# ===================================================================\n",
        "st.header(\"População Geral\")\n",
        "col1, col2 = st.columns([3, 1])\n",
        "\n",
        "with col1:\n",
        "    # --- Cálculo 2022 ---\n",
        "    df_idade_sexo_2022 = datasets[\"idade_sexo_2022\"]\n",
        "    homens_2022_raw = df_idade_sexo_2022[df_idade_sexo_2022[\"tipo\"].str.contains(\"homens\", na=False, case=False)][\"total\"].sum()\n",
        "    mulheres_2022_raw = df_idade_sexo_2022[df_idade_sexo_2022[\"tipo\"].str.contains(\"mulheres\", na=False, case=False)][\"total\"].sum()\n",
        "    soma_raw_2022 = homens_2022_raw + mulheres_2022_raw\n",
        "    homens_2022 = (homens_2022_raw / soma_raw_2022) * total_correto_2022 if soma_raw_2022 > 0 else 0\n",
        "    mulheres_2022 = (mulheres_2022_raw / soma_raw_2022) * total_correto_2022 if soma_raw_2022 > 0 else 0\n",
        "    df_sexo_2022 = pd.DataFrame([{\"Sexo\": \"Homens\", \"População\": homens_2022, \"Ano\": \"2022\"}, {\"Sexo\": \"Mulheres\", \"População\": mulheres_2022, \"Ano\": \"2022\"}])\n",
        "\n",
        "    # --- Cálculo 2010 ---\n",
        "    homens_2010_raw = datasets[\"faixa_homens_2010\"]['Valor'].sum()\n",
        "    mulheres_2010_raw = datasets[\"faixa_mulheres_2010\"]['Valor'].sum()\n",
        "    soma_raw_2010 = homens_2010_raw + mulheres_2010_raw\n",
        "    homens_2010 = (homens_2010_raw / soma_raw_2010) * total_correto_2010 if soma_raw_2010 > 0 else 0\n",
        "    mulheres_2010 = (mulheres_2010_raw / soma_raw_2010) * total_correto_2010 if soma_raw_2010 > 0 else 0\n",
        "    df_sexo_2010 = pd.DataFrame([{\"Sexo\": \"Homens\", \"População\": homens_2010, \"Ano\": \"2010\"}, {\"Sexo\": \"Mulheres\", \"População\": mulheres_2010, \"Ano\": \"2010\"}])\n",
        "\n",
        "    df_sexo_final = pd.concat([df_sexo_2010, df_sexo_2022], ignore_index=True)\n",
        "    fig1 = px.bar(df_sexo_final, x=\"Sexo\", y=\"População\", color=\"Ano\", barmode=\"group\", title=\"População por Sexo (2010 vs 2022)\", text_auto='.3s')\n",
        "    fig1.update_traces(textangle=0, textposition=\"outside\")\n",
        "    st.plotly_chart(fig1, use_container_width=True)\n",
        "\n",
        "with col2:\n",
        "    st.metric(\"População Total 2022\", f\"{int(total_correto_2022):,}\".replace(\",\", \".\"))\n",
        "    st.metric(\"População Total 2010\", f\"{int(total_correto_2010):,}\".replace(\",\", \".\"))\n",
        "    if total_correto_2010 > 0:\n",
        "        st.metric(\"Crescimento Populacional\", f\"{(total_correto_2022/total_correto_2010 - 1):.2%}\")\n",
        "\n",
        "# ===================================================================\n",
        "# GRÁFICO 2: DENSIDADE DEMOGRÁFICA\n",
        "# ===================================================================\n",
        "st.header(\"Densidade Demográfica\")\n",
        "# CORREÇÃO: Os nomes das colunas de densidade são diferentes, então precisamos tratar isso.\n",
        "df_densidade_2010 = limpar_colunas(datasets[\"densidade_2010\"].copy())\n",
        "\n",
        "data_densidade = []\n",
        "if \"densidade_demografica_habkm2\" in df_densidade_2010.columns:\n",
        "    densidade_2010 = df_densidade_2010[\"densidade_demografica_habkm2\"].iloc[0]\n",
        "    data_densidade.append({\"Ano\": \"2010\", \"Densidade (hab/km²)\": densidade_2010})\n",
        "if \"densidade\" in datasets[\"pop_residencia_2022\"].columns:\n",
        "    densidade_2022 = datasets[\"pop_residencia_2022\"][\"densidade\"].iloc[0]\n",
        "    data_densidade.append({\"Ano\": \"2022\", \"Densidade (hab/km²)\": densidade_2022})\n",
        "\n",
        "if data_densidade:\n",
        "    df_densidade = pd.DataFrame(data_densidade)\n",
        "    fig2 = px.line(df_densidade, x=\"Ano\", y=\"Densidade (hab/km²)\", markers=True, title=\"Densidade Demográfica (2010 vs 2022)\")\n",
        "    fig2.update_traces(text=df_densidade[\"Densidade (hab/km²)\"].round(2), textposition=\"top center\")\n",
        "    st.plotly_chart(fig2, use_container_width=True)\n",
        "else:\n",
        "    st.warning(\"Dados de densidade demográfica não disponíveis.\")\n",
        "\n",
        "\n",
        "# ===================================================================\n",
        "# GRÁFICO 3: FAIXA ETÁRIA (2010 vs 2022)\n",
        "# ===================================================================\n",
        "st.header(\"Distribuição da População por Faixa Etária\")\n",
        "# --- Cálculo 2022 ---\n",
        "faixas_2022 = [c for c in df_idade_sexo_2022.columns if c not in [\"ano\", \"tipo\", \"total\"]]\n",
        "faixa_total_2022_raw = df_idade_sexo_2022.loc[df_idade_sexo_2022[\"tipo\"].str.lower().isin([\"homens\", \"mulheres\"]), faixas_2022].sum().fillna(0)\n",
        "fator_2022 = total_correto_2022 / faixa_total_2022_raw.sum() if faixa_total_2022_raw.sum() > 0 else 1\n",
        "faixa_total_2022 = (faixa_total_2022_raw * fator_2022).reset_index(); faixa_total_2022.columns = [\"faixa_etaria\", \"populacao\"]; faixa_total_2022[\"ano\"] = \"2022\"\n",
        "\n",
        "# --- Cálculo 2010 ---\n",
        "df_h_2010 = datasets[\"faixa_homens_2010\"]; df_m_2010 = datasets[\"faixa_mulheres_2010\"]\n",
        "df_faixa_2010_combined = pd.concat([df_h_2010, df_m_2010])\n",
        "df_faixa_2010_combined['faixa_normalizada'] = df_faixa_2010_combined['Indicador'].apply(normalizar_faixa_etaria_2010)\n",
        "df_faixa_2010_combined = df_faixa_2010_combined.dropna(subset=['faixa_normalizada']) # Remove linhas que não foram mapeadas\n",
        "faixa_total_2010_raw = df_faixa_2010_combined.groupby('faixa_normalizada')['Valor'].sum()\n",
        "fator_2010 = total_correto_2010 / faixa_total_2010_raw.sum() if faixa_total_2010_raw.sum() > 0 else 1\n",
        "faixa_total_2010 = (faixa_total_2010_raw * fator_2010).reset_index(); faixa_total_2010.columns = [\"faixa_etaria\", \"populacao\"]; faixa_total_2010[\"ano\"] = \"2010\"\n",
        "\n",
        "# --- Junção e Plot ---\n",
        "faixa_df_final = pd.concat([faixa_total_2010, faixa_total_2022], ignore_index=True)\n",
        "ordem_faixas = sorted(faixa_df_final['faixa_etaria'].unique(), key=lambda x: int(re.search(r'\\d+', x).group(0)))\n",
        "faixa_df_final['faixa_etaria_display'] = faixa_df_final['faixa_etaria'].str.replace('_', ' ').str.replace(' a ', '-').str.replace(' anos', '').str.replace(' ou mais', '+')\n",
        "ordem_display = [d.replace('_', ' ').replace(' a ', '-').replace(' anos', '').replace(' ou mais', '+') for d in ordem_faixas]\n",
        "\n",
        "if not faixa_df_final.empty:\n",
        "    fig3 = px.bar(faixa_df_final, x=\"faixa_etaria_display\", y=\"populacao\", color=\"ano\", barmode=\"group\", title=\"População por Faixa Etária (2010 vs 2022)\",\n",
        "                  category_orders={\"faixa_etaria_display\": ordem_display},\n",
        "                  labels={\"faixa_etaria_display\": \"Faixa Etária\", \"populacao\": \"População\"},\n",
        "                  text_auto='.3s')\n",
        "    fig3.update_xaxes(tickangle=45)\n",
        "    fig3.update_traces(textangle=0, textposition=\"outside\")\n",
        "    st.plotly_chart(fig3, use_container_width=True)\n",
        "else:\n",
        "    st.warning(\"Dados de faixa etária não disponíveis para exibição.\")\n",
        "\"\"\"\n",
        "\n",
        "# ==================================================\n",
        "# 2. Salva o código em um arquivo .py\n",
        "# ==================================================\n",
        "STREAMLIT_APP_FILE = \"app_dashboard.py\"\n",
        "with open(STREAMLIT_APP_FILE, \"w\", encoding=\"utf-8\") as f:\n",
        "    f.write(streamlit_code)\n",
        "print(f\"✅ Código do Streamlit salvo em '{STREAMLIT_APP_FILE}'\")\n",
        "\n",
        "# ==================================================\n",
        "# 3. Executa o Streamlit e o ngrok\n",
        "# ==================================================\n",
        "def is_port_in_use(port: int) -> bool:\n",
        "    with socket.socket(socket.AF_INET, socket.SOCK_STREAM) as s:\n",
        "        return s.connect_ex((\"localhost\", port)) == 0\n",
        "\n",
        "# <<< IMPORTANTE: Insira seu token do ngrok abaixo >>>\n",
        "# É uma boa prática não deixar tokens expostos diretamente no código,\n",
        "# mas para o ambiente do Colab, esta é a forma mais direta.\n",
        "NGROK_AUTH_TOKEN = \"32Qi64IHMghRwMNkoFZu49G4xIF_yYjaH7aJoXcfiJEhhhCs\"\n",
        "if not NGROK_AUTH_TOKEN or NGROK_AUTH_TOKEN == \"SEU_TOKEN_AQUI\":\n",
        "    print(\"⚠️ ATENÇÃO: Insira seu token de autenticação do ngrok para continuar.\")\n",
        "else:\n",
        "    ngrok.set_auth_token(NGROK_AUTH_TOKEN)\n",
        "    PORTA_STREAMLIT = 8501\n",
        "    print(\"🚀 Iniciando o Streamlit em background...\")\n",
        "    proc = subprocess.Popen(\n",
        "        [\"streamlit\", \"run\", STREAMLIT_APP_FILE, \"--server.port\", str(PORTA_STREAMLIT), \"--server.headless\", \"true\", \"--server.enableCORS\", \"false\"],\n",
        "        stdout=subprocess.PIPE, stderr=subprocess.PIPE, text=True, encoding=\"utf-8\"\n",
        "    )\n",
        "    atexit.register(proc.kill)\n",
        "    print(\"⏳ Aguardando o servidor do Streamlit ficar pronto...\")\n",
        "    start_time = time.time()\n",
        "    while not is_port_in_use(PORTA_STREAMLIT):\n",
        "        time.sleep(0.5)\n",
        "        if time.time() - start_time > 60:\n",
        "            print(\"❌ Erro: O Streamlit demorou muito para iniciar.\", proc.stderr.read())\n",
        "            exit()\n",
        "    print(\"✅ Servidor Streamlit iniciado com sucesso!\")\n",
        "    try:\n",
        "        public_url = ngrok.connect(PORTA_STREAMLIT)\n",
        "        print(\"─\" * 50); print(f\"🎉 Seu dashboard está no ar!\"); print(f\"🔗 URL Pública: {public_url}\"); print(\"─\" * 50)\n",
        "    except Exception as e:\n",
        "        print(f\"❌ Erro ao conectar com o ngrok: {e}\")\n"
      ],
      "metadata": {
        "id": "SA2uqkCk4NQA",
        "colab": {
          "base_uri": "https://localhost:8080/"
        },
        "outputId": "3ff06d3a-1288-4286-ac9b-f430c5ba1c8d"
      },
      "execution_count": 4,
      "outputs": [
        {
          "output_type": "stream",
          "name": "stdout",
          "text": [
            "✅ Código do Streamlit salvo em 'app_dashboard.py'\n",
            "🚀 Iniciando o Streamlit em background...\n",
            "⏳ Aguardando o servidor do Streamlit ficar pronto...\n",
            "✅ Servidor Streamlit iniciado com sucesso!\n",
            "──────────────────────────────────────────────────\n",
            "🎉 Seu dashboard está no ar!\n",
            "🔗 URL Pública: NgrokTunnel: \"https://8fbd4d42f95a.ngrok-free.app\" -> \"http://localhost:8501\"\n",
            "──────────────────────────────────────────────────\n"
          ]
        }
      ]
    },
    {
      "cell_type": "markdown",
      "source": [
        "# Geração do mapa interativo da cidade de São José dos Campos:\n",
        "\n",
        "Ainda em construção, aqui será onde o mapa interativo de SJC será inserida no Google Colab."
      ],
      "metadata": {
        "id": "aU7TcQqGJLpA"
      }
    },
    {
      "cell_type": "code",
      "source": [
        "!pip install --upgrade pip shapely\n",
        "!pip install geopandas rtree mapclassify\n",
        "!pip install --upgrade shapely geopandas rtree mapclassify\n",
        "!pip install geobr\n",
        "\n"
      ],
      "metadata": {
        "id": "WJwvi9YWJSTf"
      },
      "execution_count": null,
      "outputs": []
    }
  ],
  "metadata": {
    "colab": {
      "provenance": [],
      "include_colab_link": true
    },
    "kernelspec": {
      "display_name": "Python 3",
      "name": "python3"
    },
    "language_info": {
      "name": "python"
    }
  },
  "nbformat": 4,
  "nbformat_minor": 0
}